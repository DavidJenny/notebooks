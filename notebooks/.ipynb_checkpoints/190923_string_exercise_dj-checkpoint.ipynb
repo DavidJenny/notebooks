{
 "cells": [
  {
   "cell_type": "code",
   "execution_count": 16,
   "metadata": {},
   "outputs": [
    {
     "name": "stdout",
     "output_type": "stream",
     "text": [
      "02/9102 noitacirbaF latigiD SAM\n"
     ]
    }
   ],
   "source": [
    "# slicing\n",
    "\n",
    "phrase = \"MAS Digital Fabrication 2019/20\"\n",
    "extraction = phrase[::-1]\n",
    "print(extraction)"
   ]
  },
  {
   "cell_type": "code",
   "execution_count": 17,
   "metadata": {},
   "outputs": [],
   "source": [
    "def find_string(word, phrase):\n",
    "    temp_phrase = phrase.lower()\n",
    "    temp_word = word.lower()\n",
    "    word_length = len(word)\n",
    "    \n",
    "    count = 0\n",
    "    for i in range(len(temp_phrase)):\n",
    "        if temp_phrase[i:i+word_length]==temp_word:\n",
    "            count += 1\n",
    "    print(\"Occurence of the word\", word, \"is\", count)"
   ]
  },
  {
   "cell_type": "code",
   "execution_count": 24,
   "metadata": {},
   "outputs": [
    {
     "name": "stdout",
     "output_type": "stream",
     "text": [
      "Occurence of the word architect is 2\n"
     ]
    }
   ],
   "source": [
    "my_phrase = \"\"\"\n",
    "The MAS in Architecture and Digital Fabrication\n",
    "is the best decision for architects\"\"\"\n",
    "my_word = \"architect\"\n",
    "\n",
    "find_string(my_word, my_phrase)"
   ]
  },
  {
   "cell_type": "code",
   "execution_count": 25,
   "metadata": {},
   "outputs": [],
   "source": [
    "def find_word(word, phrase):\n",
    "    temp_string = phrase.lower()\n",
    "    count = temp_string.count(word.lower())\n",
    "    print(\"Occurence of the word\", word, \"is\", count)"
   ]
  },
  {
   "cell_type": "code",
   "execution_count": 26,
   "metadata": {},
   "outputs": [
    {
     "name": "stdout",
     "output_type": "stream",
     "text": [
      "Occurence of the word digital is 1\n"
     ]
    }
   ],
   "source": [
    "keyword = \"digital\"\n",
    "find_word(keyword, my_phrase)"
   ]
  },
  {
   "cell_type": "code",
   "execution_count": 29,
   "metadata": {},
   "outputs": [],
   "source": [
    "def analyse_string(input_string):\n",
    "    char_count = 0\n",
    "    lower_count = 0\n",
    "    upper_count = 0\n",
    "    digit_count = 0\n",
    "    symbol_count = 0\n",
    "    \n",
    "    for char in input_string:\n",
    "        if char.islower():\n",
    "            lower_count += 1\n",
    "        elif char.isupper():\n",
    "            upper_count += 1\n",
    "        elif char.isnumeric():\n",
    "            digit_count += 1\n",
    "        else:\n",
    "            symbol_count += 1\n",
    "        char_count += 1\n",
    "        \n",
    "    print (\"Characters:\", char_count,\n",
    "           \"Upper Case:\", upper_count,\n",
    "           \"Lower Case:\", lower_count,\n",
    "           \"Digits:\", digit_count,\n",
    "           \"Symbols:\", symbol_count)"
   ]
  },
  {
   "cell_type": "code",
   "execution_count": 30,
   "metadata": {},
   "outputs": [
    {
     "name": "stdout",
     "output_type": "stream",
     "text": [
      "Characters: 84 Upper Case: 7 Lower Case: 64 Digits: 0 Symbols: 13\n"
     ]
    }
   ],
   "source": [
    "analyse_string(my_phrase)"
   ]
  },
  {
   "cell_type": "code",
   "execution_count": 33,
   "metadata": {},
   "outputs": [
    {
     "name": "stdout",
     "output_type": "stream",
     "text": [
      "[4, 6, 2, 8, 12]\n",
      "[0, 2, 4, 0, 2, 3]\n"
     ]
    }
   ],
   "source": [
    "list_1 = [1,4,5,6,11]\n",
    "list_2 = [2,5,8,12,15]\n",
    "\n",
    "def merge_list_even_even(list_1, list_2):\n",
    "    new_list = []\n",
    "    for val in list_1:\n",
    "        if val%2 == 0:\n",
    "            new_list.append(val)\n",
    "    for val in list_2:\n",
    "        if val%2 == 0:\n",
    "            new_list.append(val)\n",
    "    return new_list\n",
    "\n",
    "def merge_list_odd_even(list_1, list_2):\n",
    "    new_list = []\n",
    "    for i,val in enumerate(list_1):\n",
    "        if val%2 != 0:\n",
    "            new_list.append(i)\n",
    "    for j,val in enumerate(list_2):\n",
    "        if val%2 == 0:\n",
    "            new_list.append(j)\n",
    "    return new_list\n",
    "\n",
    "print(merge_list_even_even(list_1, list_2))\n",
    "print(merge_list_odd_even(list_1, list_2))"
   ]
  },
  {
   "cell_type": "code",
   "execution_count": null,
   "metadata": {},
   "outputs": [],
   "source": []
  }
 ],
 "metadata": {
  "kernelspec": {
   "display_name": "Python 3",
   "language": "python",
   "name": "python3"
  },
  "language_info": {
   "codemirror_mode": {
    "name": "ipython",
    "version": 3
   },
   "file_extension": ".py",
   "mimetype": "text/x-python",
   "name": "python",
   "nbconvert_exporter": "python",
   "pygments_lexer": "ipython3",
   "version": "3.7.3"
  }
 },
 "nbformat": 4,
 "nbformat_minor": 2
}
