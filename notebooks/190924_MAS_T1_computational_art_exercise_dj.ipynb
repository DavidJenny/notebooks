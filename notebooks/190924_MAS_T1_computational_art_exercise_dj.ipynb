{
 "cells": [
  {
   "cell_type": "code",
   "execution_count": 1,
   "metadata": {},
   "outputs": [],
   "source": [
    "import matplotlib.pyplot as plt"
   ]
  },
  {
   "cell_type": "code",
   "execution_count": 19,
   "metadata": {},
   "outputs": [],
   "source": [
    "class Rectangle(object):\n",
    "    def __init__(self, cx, cy, width, height):\n",
    "        # x and y of centroid\n",
    "        self.cx = cx\n",
    "        self.cy = cy\n",
    "        # width and height\n",
    "        self.w = width\n",
    "        self.h = height\n",
    "        # half-width and half-heigth\n",
    "        hw = self.w/2\n",
    "        hl = self.h/2\n",
    "        \n",
    "        # list of x and list of y coordinates\n",
    "        self.x = [self.cx - hw, self.cx + hw, self.cx + hw, self.cx - hw, self.cx - hw]\n",
    "        self.y = [self.cy - hl, self.cy - hl, self.cy + hl, self.cy + hl, self.cy - hl]\n",
    "        \n",
    "    def display(self):\n",
    "        # equal axis scale\n",
    "        plt.axis('equal')\n",
    "        # plot\n",
    "        plt.plot(self.x, self.y, c = 'k', linewidth = 1)"
   ]
  },
  {
   "cell_type": "code",
   "execution_count": 20,
   "metadata": {},
   "outputs": [
    {
     "data": {
      "image/png": "[encoded data removed]",
      "text/plain": [
       "<Figure size 432x288 with 1 Axes>"
      ]
     },
     "metadata": {
      "needs_background": "light"
     },
     "output_type": "display_data"
    }
   ],
   "source": [
    "rectangle = Rectangle(1,2,3,4)\n",
    "rectangle.display()"
   ]
  },
  {
   "cell_type": "code",
   "execution_count": null,
   "metadata": {},
   "outputs": [],
   "source": []
  },
  {
   "cell_type": "code",
   "execution_count": null,
   "metadata": {},
   "outputs": [],
   "source": []
  }
 ],
 "metadata": {
  "kernelspec": {
   "display_name": "Python 3",
   "language": "python",
   "name": "python3"
  },
  "language_info": {
   "codemirror_mode": {
    "name": "ipython",
    "version": 3
   },
   "file_extension": ".py",
   "mimetype": "text/x-python",
   "name": "python",
   "nbconvert_exporter": "python",
   "pygments_lexer": "ipython3",
   "version": "3.7.3"
  }
 },
 "nbformat": 4,
 "nbformat_minor": 2
}
